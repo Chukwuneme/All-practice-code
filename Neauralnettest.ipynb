{
 "cells": [
  {
   "cell_type": "code",
   "execution_count": 1,
   "id": "d03ab9aa",
   "metadata": {},
   "outputs": [
    {
     "name": "stderr",
     "output_type": "stream",
     "text": [
      "Using Theano backend.\n",
      "WARNING (theano.tensor.blas): Using NumPy C-API based implementation for BLAS functions.\n"
     ]
    }
   ],
   "source": [
    "import numpy as np\n",
    "from keras.models import Sequential\n",
    "from keras.layers import Dense, Activation\n",
    "import pandas as pd\n",
    "from sklearn.datasets import load_iris"
   ]
  },
  {
   "cell_type": "code",
   "execution_count": 2,
   "id": "9095de0e",
   "metadata": {},
   "outputs": [],
   "source": [
    "data = load_iris()\n",
    "features = data.data\n",
    "target = data.target"
   ]
  },
  {
   "cell_type": "code",
   "execution_count": 3,
   "id": "c21e8c73",
   "metadata": {},
   "outputs": [],
   "source": [
    "from sklearn.preprocessing import MinMaxScaler"
   ]
  },
  {
   "cell_type": "code",
   "execution_count": 4,
   "id": "86d71079",
   "metadata": {},
   "outputs": [],
   "source": [
    "mms = MinMaxScaler()\n",
    "features = mms.fit_transform(features)"
   ]
  },
  {
   "cell_type": "code",
   "execution_count": 6,
   "id": "9b9bebf4",
   "metadata": {},
   "outputs": [],
   "source": [
    "from keras.utils.np_utils import to_categorical"
   ]
  },
  {
   "cell_type": "code",
   "execution_count": 7,
   "id": "a2c80b20",
   "metadata": {},
   "outputs": [
    {
     "data": {
      "text/plain": [
       "(150, 3)"
      ]
     },
     "execution_count": 7,
     "metadata": {},
     "output_type": "execute_result"
    }
   ],
   "source": [
    "target = to_categorical(target)\n",
    "target.shape"
   ]
  },
  {
   "cell_type": "code",
   "execution_count": 8,
   "id": "ccf11803",
   "metadata": {},
   "outputs": [
    {
     "data": {
      "text/plain": [
       "(38, 3)"
      ]
     },
     "execution_count": 8,
     "metadata": {},
     "output_type": "execute_result"
    }
   ],
   "source": [
    "from sklearn.model_selection import train_test_split \n",
    "xtrain, xtest, ytrain, ytest = train_test_split(features, target, random_state = 2)\n",
    "ytest.shape"
   ]
  },
  {
   "cell_type": "code",
   "execution_count": 9,
   "id": "b0a28183",
   "metadata": {},
   "outputs": [],
   "source": [
    "model = Sequential()\n",
    "model.add(Dense(32, input_dim = 4, activation = \"relu\"))\n",
    "model.add(Dense(9, activation = \"relu\"))\n",
    "model.add(Dense(3, activation = \"sigmoid\"))"
   ]
  },
  {
   "cell_type": "code",
   "execution_count": 10,
   "id": "50d18af4",
   "metadata": {},
   "outputs": [],
   "source": [
    "model.compile(optimizer = \"Adam\", loss = \"binary_crossentropy\", metrics = [\"accuracy\"])"
   ]
  },
  {
   "cell_type": "code",
   "execution_count": 11,
   "id": "f19ed211",
   "metadata": {},
   "outputs": [
    {
     "name": "stdout",
     "output_type": "stream",
     "text": [
      "Train on 112 samples, validate on 38 samples\n",
      "Epoch 1/100\n",
      "112/112 [==============================] - 0s - loss: 0.7013 - acc: 0.3333 - val_loss: 0.6961 - val_acc: 0.3421\n",
      "Epoch 2/100\n",
      "112/112 [==============================] - 0s - loss: 0.6942 - acc: 0.3333 - val_loss: 0.6899 - val_acc: 0.3684\n",
      "Epoch 3/100\n",
      "112/112 [==============================] - 0s - loss: 0.6876 - acc: 0.3720 - val_loss: 0.6840 - val_acc: 0.5614\n",
      "Epoch 4/100\n",
      "112/112 [==============================] - 0s - loss: 0.6815 - acc: 0.5655 - val_loss: 0.6786 - val_acc: 0.6579\n",
      "Epoch 5/100\n",
      "112/112 [==============================] - 0s - loss: 0.6756 - acc: 0.6637 - val_loss: 0.6737 - val_acc: 0.6667\n",
      "Epoch 6/100\n",
      "112/112 [==============================] - 0s - loss: 0.6705 - acc: 0.6667 - val_loss: 0.6694 - val_acc: 0.6667\n",
      "Epoch 7/100\n",
      "112/112 [==============================] - 0s - loss: 0.6657 - acc: 0.6667 - val_loss: 0.6654 - val_acc: 0.6667\n",
      "Epoch 8/100\n",
      "112/112 [==============================] - 0s - loss: 0.6614 - acc: 0.6696 - val_loss: 0.6616 - val_acc: 0.6930\n",
      "Epoch 9/100\n",
      "112/112 [==============================] - 0s - loss: 0.6572 - acc: 0.6815 - val_loss: 0.6580 - val_acc: 0.7018\n",
      "Epoch 10/100\n",
      "112/112 [==============================] - 0s - loss: 0.6534 - acc: 0.7173 - val_loss: 0.6546 - val_acc: 0.7193\n",
      "Epoch 11/100\n",
      "112/112 [==============================] - 0s - loss: 0.6497 - acc: 0.7411 - val_loss: 0.6512 - val_acc: 0.7368\n",
      "Epoch 12/100\n",
      "112/112 [==============================] - 0s - loss: 0.6461 - acc: 0.7530 - val_loss: 0.6478 - val_acc: 0.7368\n",
      "Epoch 13/100\n",
      "112/112 [==============================] - 0s - loss: 0.6423 - acc: 0.7440 - val_loss: 0.6444 - val_acc: 0.7105\n",
      "Epoch 14/100\n",
      "112/112 [==============================] - 0s - loss: 0.6386 - acc: 0.7292 - val_loss: 0.6410 - val_acc: 0.7105\n",
      "Epoch 15/100\n",
      "112/112 [==============================] - 0s - loss: 0.6349 - acc: 0.7232 - val_loss: 0.6377 - val_acc: 0.7105\n",
      "Epoch 16/100\n",
      "112/112 [==============================] - 0s - loss: 0.6311 - acc: 0.6905 - val_loss: 0.6344 - val_acc: 0.6842\n",
      "Epoch 17/100\n",
      "112/112 [==============================] - 0s - loss: 0.6276 - acc: 0.6756 - val_loss: 0.6313 - val_acc: 0.6667\n",
      "Epoch 18/100\n",
      "112/112 [==============================] - 0s - loss: 0.6242 - acc: 0.6696 - val_loss: 0.6282 - val_acc: 0.6667\n",
      "Epoch 19/100\n",
      "112/112 [==============================] - 0s - loss: 0.6210 - acc: 0.6696 - val_loss: 0.6250 - val_acc: 0.6667\n",
      "Epoch 20/100\n",
      "112/112 [==============================] - 0s - loss: 0.6178 - acc: 0.6696 - val_loss: 0.6218 - val_acc: 0.6667\n",
      "Epoch 21/100\n",
      "112/112 [==============================] - 0s - loss: 0.6144 - acc: 0.6696 - val_loss: 0.6185 - val_acc: 0.6667\n",
      "Epoch 22/100\n",
      "112/112 [==============================] - 0s - loss: 0.6112 - acc: 0.6696 - val_loss: 0.6153 - val_acc: 0.6667\n",
      "Epoch 23/100\n",
      "112/112 [==============================] - 0s - loss: 0.6077 - acc: 0.6696 - val_loss: 0.6119 - val_acc: 0.6667\n",
      "Epoch 24/100\n",
      "112/112 [==============================] - 0s - loss: 0.6045 - acc: 0.6696 - val_loss: 0.6086 - val_acc: 0.6667\n",
      "Epoch 25/100\n",
      "112/112 [==============================] - 0s - loss: 0.6010 - acc: 0.6696 - val_loss: 0.6051 - val_acc: 0.6667\n",
      "Epoch 26/100\n",
      "112/112 [==============================] - 0s - loss: 0.5975 - acc: 0.6696 - val_loss: 0.6014 - val_acc: 0.6667\n",
      "Epoch 27/100\n",
      "112/112 [==============================] - 0s - loss: 0.5940 - acc: 0.6696 - val_loss: 0.5976 - val_acc: 0.6667\n",
      "Epoch 28/100\n",
      "112/112 [==============================] - 0s - loss: 0.5902 - acc: 0.6696 - val_loss: 0.5937 - val_acc: 0.6667\n",
      "Epoch 29/100\n",
      "112/112 [==============================] - 0s - loss: 0.5866 - acc: 0.6696 - val_loss: 0.5896 - val_acc: 0.6667\n",
      "Epoch 30/100\n",
      "112/112 [==============================] - 0s - loss: 0.5826 - acc: 0.6696 - val_loss: 0.5854 - val_acc: 0.6667\n",
      "Epoch 31/100\n",
      "112/112 [==============================] - 0s - loss: 0.5786 - acc: 0.6696 - val_loss: 0.5809 - val_acc: 0.6667\n",
      "Epoch 32/100\n",
      "112/112 [==============================] - 0s - loss: 0.5743 - acc: 0.6696 - val_loss: 0.5763 - val_acc: 0.6667\n",
      "Epoch 33/100\n",
      "112/112 [==============================] - 0s - loss: 0.5700 - acc: 0.6696 - val_loss: 0.5715 - val_acc: 0.6667\n",
      "Epoch 34/100\n",
      "112/112 [==============================] - 0s - loss: 0.5654 - acc: 0.6696 - val_loss: 0.5666 - val_acc: 0.6667\n",
      "Epoch 35/100\n",
      "112/112 [==============================] - 0s - loss: 0.5607 - acc: 0.6696 - val_loss: 0.5614 - val_acc: 0.6667\n",
      "Epoch 36/100\n",
      "112/112 [==============================] - 0s - loss: 0.5558 - acc: 0.6726 - val_loss: 0.5559 - val_acc: 0.6667\n",
      "Epoch 37/100\n",
      "112/112 [==============================] - 0s - loss: 0.5506 - acc: 0.6726 - val_loss: 0.5501 - val_acc: 0.6667\n",
      "Epoch 38/100\n",
      "112/112 [==============================] - 0s - loss: 0.5452 - acc: 0.6786 - val_loss: 0.5440 - val_acc: 0.6667\n",
      "Epoch 39/100\n",
      "112/112 [==============================] - 0s - loss: 0.5396 - acc: 0.6905 - val_loss: 0.5380 - val_acc: 0.7018\n",
      "Epoch 40/100\n",
      "112/112 [==============================] - 0s - loss: 0.5340 - acc: 0.7173 - val_loss: 0.5315 - val_acc: 0.7193\n",
      "Epoch 41/100\n",
      "112/112 [==============================] - 0s - loss: 0.5281 - acc: 0.7470 - val_loss: 0.5250 - val_acc: 0.7632\n",
      "Epoch 42/100\n",
      "112/112 [==============================] - 0s - loss: 0.5220 - acc: 0.7946 - val_loss: 0.5182 - val_acc: 0.8246\n",
      "Epoch 43/100\n",
      "112/112 [==============================] - 0s - loss: 0.5163 - acc: 0.8155 - val_loss: 0.5110 - val_acc: 0.8333\n",
      "Epoch 44/100\n",
      "112/112 [==============================] - 0s - loss: 0.5096 - acc: 0.8333 - val_loss: 0.5039 - val_acc: 0.8421\n",
      "Epoch 45/100\n",
      "112/112 [==============================] - 0s - loss: 0.5030 - acc: 0.8423 - val_loss: 0.4966 - val_acc: 0.8421\n",
      "Epoch 46/100\n",
      "112/112 [==============================] - 0s - loss: 0.4964 - acc: 0.8482 - val_loss: 0.4892 - val_acc: 0.8596\n",
      "Epoch 47/100\n",
      "112/112 [==============================] - 0s - loss: 0.4898 - acc: 0.8542 - val_loss: 0.4816 - val_acc: 0.8596\n",
      "Epoch 48/100\n",
      "112/112 [==============================] - 0s - loss: 0.4829 - acc: 0.8542 - val_loss: 0.4738 - val_acc: 0.8772\n",
      "Epoch 49/100\n",
      "112/112 [==============================] - 0s - loss: 0.4750 - acc: 0.8542 - val_loss: 0.4654 - val_acc: 0.8772\n",
      "Epoch 50/100\n",
      "112/112 [==============================] - 0s - loss: 0.4672 - acc: 0.8601 - val_loss: 0.4572 - val_acc: 0.8860\n",
      "Epoch 51/100\n",
      "112/112 [==============================] - 0s - loss: 0.4597 - acc: 0.8631 - val_loss: 0.4489 - val_acc: 0.8860\n",
      "Epoch 52/100\n",
      "112/112 [==============================] - 0s - loss: 0.4519 - acc: 0.8720 - val_loss: 0.4409 - val_acc: 0.8860\n",
      "Epoch 53/100\n",
      "112/112 [==============================] - 0s - loss: 0.4446 - acc: 0.8750 - val_loss: 0.4332 - val_acc: 0.8772\n",
      "Epoch 54/100\n",
      "112/112 [==============================] - 0s - loss: 0.4372 - acc: 0.8750 - val_loss: 0.4250 - val_acc: 0.8772\n",
      "Epoch 55/100\n",
      "112/112 [==============================] - 0s - loss: 0.4295 - acc: 0.8750 - val_loss: 0.4174 - val_acc: 0.8772\n",
      "Epoch 56/100\n",
      "112/112 [==============================] - 0s - loss: 0.4223 - acc: 0.8750 - val_loss: 0.4099 - val_acc: 0.8860\n",
      "Epoch 57/100\n",
      "112/112 [==============================] - 0s - loss: 0.4153 - acc: 0.8750 - val_loss: 0.4024 - val_acc: 0.8772\n",
      "Epoch 58/100\n",
      "112/112 [==============================] - 0s - loss: 0.4080 - acc: 0.8750 - val_loss: 0.3947 - val_acc: 0.8860\n",
      "Epoch 59/100\n",
      "112/112 [==============================] - 0s - loss: 0.4006 - acc: 0.8750 - val_loss: 0.3871 - val_acc: 0.8860\n",
      "Epoch 60/100\n",
      "112/112 [==============================] - 0s - loss: 0.3936 - acc: 0.8750 - val_loss: 0.3796 - val_acc: 0.8860\n",
      "Epoch 61/100\n",
      "112/112 [==============================] - 0s - loss: 0.3860 - acc: 0.8750 - val_loss: 0.3724 - val_acc: 0.8860\n",
      "Epoch 62/100\n",
      "112/112 [==============================] - 0s - loss: 0.3787 - acc: 0.8750 - val_loss: 0.3654 - val_acc: 0.8860\n",
      "Epoch 63/100\n",
      "112/112 [==============================] - 0s - loss: 0.3718 - acc: 0.8750 - val_loss: 0.3587 - val_acc: 0.8860\n",
      "Epoch 64/100\n",
      "112/112 [==============================] - 0s - loss: 0.3653 - acc: 0.8750 - val_loss: 0.3517 - val_acc: 0.8860\n",
      "Epoch 65/100\n",
      "112/112 [==============================] - 0s - loss: 0.3590 - acc: 0.8750 - val_loss: 0.3452 - val_acc: 0.8860\n",
      "Epoch 66/100\n"
     ]
    },
    {
     "name": "stdout",
     "output_type": "stream",
     "text": [
      "112/112 [==============================] - 0s - loss: 0.3531 - acc: 0.8720 - val_loss: 0.3385 - val_acc: 0.8860\n",
      "Epoch 67/100\n",
      "112/112 [==============================] - 0s - loss: 0.3469 - acc: 0.8750 - val_loss: 0.3322 - val_acc: 0.8860\n",
      "Epoch 68/100\n",
      "112/112 [==============================] - 0s - loss: 0.3410 - acc: 0.8750 - val_loss: 0.3262 - val_acc: 0.8860\n",
      "Epoch 69/100\n",
      "112/112 [==============================] - 0s - loss: 0.3354 - acc: 0.8750 - val_loss: 0.3205 - val_acc: 0.8860\n",
      "Epoch 70/100\n",
      "112/112 [==============================] - 0s - loss: 0.3300 - acc: 0.8750 - val_loss: 0.3147 - val_acc: 0.8860\n",
      "Epoch 71/100\n",
      "112/112 [==============================] - 0s - loss: 0.3244 - acc: 0.8750 - val_loss: 0.3089 - val_acc: 0.8860\n",
      "Epoch 72/100\n",
      "112/112 [==============================] - 0s - loss: 0.3191 - acc: 0.8750 - val_loss: 0.3035 - val_acc: 0.8860\n",
      "Epoch 73/100\n",
      "112/112 [==============================] - 0s - loss: 0.3140 - acc: 0.8750 - val_loss: 0.2983 - val_acc: 0.8860\n",
      "Epoch 74/100\n",
      "112/112 [==============================] - 0s - loss: 0.3090 - acc: 0.8750 - val_loss: 0.2931 - val_acc: 0.8860\n",
      "Epoch 75/100\n",
      "112/112 [==============================] - 0s - loss: 0.3045 - acc: 0.8720 - val_loss: 0.2882 - val_acc: 0.8860\n",
      "Epoch 76/100\n",
      "112/112 [==============================] - 0s - loss: 0.2996 - acc: 0.8750 - val_loss: 0.2837 - val_acc: 0.8860\n",
      "Epoch 77/100\n",
      "112/112 [==============================] - 0s - loss: 0.2952 - acc: 0.8750 - val_loss: 0.2794 - val_acc: 0.8860\n",
      "Epoch 78/100\n",
      "112/112 [==============================] - 0s - loss: 0.2904 - acc: 0.8750 - val_loss: 0.2750 - val_acc: 0.8860\n",
      "Epoch 79/100\n",
      "112/112 [==============================] - 0s - loss: 0.2861 - acc: 0.8750 - val_loss: 0.2704 - val_acc: 0.8860\n",
      "Epoch 80/100\n",
      "112/112 [==============================] - 0s - loss: 0.2820 - acc: 0.8720 - val_loss: 0.2659 - val_acc: 0.8860\n",
      "Epoch 81/100\n",
      "112/112 [==============================] - 0s - loss: 0.2776 - acc: 0.8720 - val_loss: 0.2618 - val_acc: 0.8860\n",
      "Epoch 82/100\n",
      "112/112 [==============================] - 0s - loss: 0.2735 - acc: 0.8720 - val_loss: 0.2579 - val_acc: 0.8860\n",
      "Epoch 83/100\n",
      "112/112 [==============================] - 0s - loss: 0.2694 - acc: 0.8750 - val_loss: 0.2542 - val_acc: 0.8860\n",
      "Epoch 84/100\n",
      "112/112 [==============================] - 0s - loss: 0.2657 - acc: 0.8750 - val_loss: 0.2504 - val_acc: 0.8860\n",
      "Epoch 85/100\n",
      "112/112 [==============================] - 0s - loss: 0.2617 - acc: 0.8750 - val_loss: 0.2465 - val_acc: 0.8860\n",
      "Epoch 86/100\n",
      "112/112 [==============================] - 0s - loss: 0.2581 - acc: 0.8780 - val_loss: 0.2426 - val_acc: 0.8860\n",
      "Epoch 87/100\n",
      "112/112 [==============================] - 0s - loss: 0.2544 - acc: 0.8839 - val_loss: 0.2390 - val_acc: 0.8860\n",
      "Epoch 88/100\n",
      "112/112 [==============================] - 0s - loss: 0.2507 - acc: 0.8839 - val_loss: 0.2357 - val_acc: 0.8860\n",
      "Epoch 89/100\n",
      "112/112 [==============================] - 0s - loss: 0.2471 - acc: 0.8869 - val_loss: 0.2324 - val_acc: 0.8860\n",
      "Epoch 90/100\n",
      "112/112 [==============================] - 0s - loss: 0.2435 - acc: 0.8869 - val_loss: 0.2290 - val_acc: 0.8860\n",
      "Epoch 91/100\n",
      "112/112 [==============================] - 0s - loss: 0.2404 - acc: 0.8929 - val_loss: 0.2256 - val_acc: 0.8947\n",
      "Epoch 92/100\n",
      "112/112 [==============================] - 0s - loss: 0.2371 - acc: 0.9048 - val_loss: 0.2225 - val_acc: 0.8947\n",
      "Epoch 93/100\n",
      "112/112 [==============================] - 0s - loss: 0.2340 - acc: 0.9077 - val_loss: 0.2197 - val_acc: 0.8947\n",
      "Epoch 94/100\n",
      "112/112 [==============================] - 0s - loss: 0.2306 - acc: 0.9137 - val_loss: 0.2166 - val_acc: 0.9123\n",
      "Epoch 95/100\n",
      "112/112 [==============================] - 0s - loss: 0.2270 - acc: 0.9167 - val_loss: 0.2137 - val_acc: 0.9123\n",
      "Epoch 96/100\n",
      "112/112 [==============================] - 0s - loss: 0.2242 - acc: 0.9226 - val_loss: 0.2108 - val_acc: 0.9298\n",
      "Epoch 97/100\n",
      "112/112 [==============================] - 0s - loss: 0.2210 - acc: 0.9315 - val_loss: 0.2080 - val_acc: 0.9298\n",
      "Epoch 98/100\n",
      "112/112 [==============================] - 0s - loss: 0.2184 - acc: 0.9435 - val_loss: 0.2051 - val_acc: 0.9386\n",
      "Epoch 99/100\n",
      "112/112 [==============================] - 0s - loss: 0.2148 - acc: 0.9494 - val_loss: 0.2026 - val_acc: 0.9386\n",
      "Epoch 100/100\n",
      "112/112 [==============================] - 0s - loss: 0.2121 - acc: 0.9524 - val_loss: 0.2002 - val_acc: 0.9298\n"
     ]
    },
    {
     "data": {
      "text/plain": [
       "<keras.callbacks.History at 0x7f756583d0>"
      ]
     },
     "execution_count": 11,
     "metadata": {},
     "output_type": "execute_result"
    }
   ],
   "source": [
    "model.fit(xtrain, ytrain, batch_size = 30, epochs = 100, validation_data = (xtest, ytest))"
   ]
  },
  {
   "cell_type": "code",
   "execution_count": 13,
   "id": "78618552",
   "metadata": {},
   "outputs": [
    {
     "name": "stdout",
     "output_type": "stream",
     "text": [
      "\r",
      "32/38 [========================>.....] - ETA: 0s"
     ]
    }
   ],
   "source": [
    "results = model.evaluate(xtest, ytest)"
   ]
  },
  {
   "cell_type": "code",
   "execution_count": 15,
   "id": "3efb5821",
   "metadata": {},
   "outputs": [
    {
     "name": "stdout",
     "output_type": "stream",
     "text": [
      "loss :  0.20022053467599968\n",
      "acc :  0.9298245404895983\n"
     ]
    }
   ],
   "source": [
    "for a, b in zip(model.metrics_names, results):\n",
    "    print(a, \": \", b)"
   ]
  },
  {
   "cell_type": "code",
   "execution_count": null,
   "id": "f0431045",
   "metadata": {},
   "outputs": [],
   "source": []
  }
 ],
 "metadata": {
  "kernelspec": {
   "display_name": "Python 3 (ipykernel)",
   "language": "python",
   "name": "python3"
  },
  "language_info": {
   "codemirror_mode": {
    "name": "ipython",
    "version": 3
   },
   "file_extension": ".py",
   "mimetype": "text/x-python",
   "name": "python",
   "nbconvert_exporter": "python",
   "pygments_lexer": "ipython3",
   "version": "3.9.7"
  }
 },
 "nbformat": 4,
 "nbformat_minor": 5
}
